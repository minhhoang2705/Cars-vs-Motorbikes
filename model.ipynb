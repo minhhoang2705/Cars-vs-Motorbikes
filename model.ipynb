{
 "cells": [
  {
   "cell_type": "code",
   "execution_count": 1,
   "metadata": {},
   "outputs": [],
   "source": [
    "import numpy as np\n",
    "import os\n",
    "import PIL\n",
    "import PIL.Image\n",
    "import tensorflow as tf"
   ]
  },
  {
   "cell_type": "code",
   "execution_count": 2,
   "metadata": {},
   "outputs": [
    {
     "name": "stdout",
     "output_type": "stream",
     "text": [
      "1\n"
     ]
    }
   ],
   "source": [
    "print(len(tf.config.list_physical_devices('GPU')))"
   ]
  },
  {
   "cell_type": "code",
   "execution_count": null,
   "metadata": {},
   "outputs": [],
   "source": [
    "import zipfile"
   ]
  },
  {
   "cell_type": "code",
   "execution_count": null,
   "metadata": {},
   "outputs": [],
   "source": [
    "local_zip = 'D:/Cars vs Motorbike/archive.zip'\n",
    "\n",
    "zip_ref = zipfile.ZipFile(local_zip, 'r')\n",
    "zip_ref.extractall('/Cars vs Motorbike/')\n",
    "zip_ref.close()"
   ]
  },
  {
   "cell_type": "code",
   "execution_count": 6,
   "metadata": {},
   "outputs": [
    {
     "name": "stdout",
     "output_type": "stream",
     "text": [
      "2000\n",
      "2000\n"
     ]
    }
   ],
   "source": [
    "car_dir = 'D:\\Cars vs Motorbike\\Car-Bike-Dataset\\Car'\n",
    "motor_dir = 'D:\\Cars vs Motorbike\\Car-Bike-Dataset\\Bike'\n",
    "print(len(os.listdir(car_dir)))\n",
    "print(len(os.listdir(motor_dir)))"
   ]
  },
  {
   "cell_type": "code",
   "execution_count": 7,
   "metadata": {},
   "outputs": [
    {
     "name": "stdout",
     "output_type": "stream",
     "text": [
      "Bike (303).jpeg\n",
      "Bike (911).jpeg\n",
      "Bike (1496).jpeg\n",
      "Bike (943).jpeg\n",
      "Bike (126).jpeg\n"
     ]
    }
   ],
   "source": [
    "import random\n",
    "\n",
    "for i in range (5):\n",
    "    print(random.choice(os.listdir(motor_dir)))"
   ]
  },
  {
   "cell_type": "code",
   "execution_count": 8,
   "metadata": {},
   "outputs": [
    {
     "name": "stdout",
     "output_type": "stream",
     "text": [
      "there are 2000 images of cars\n",
      "there are 2000 images of motors\n"
     ]
    }
   ],
   "source": [
    "source_path = 'D:\\Cars vs Motorbike\\Car-Bike-Dataset'\n",
    "\n",
    "source_path_car = os.path.join(source_path, 'Car')\n",
    "source_path_motor = os.path.join(source_path,'Bike')\n",
    "\n",
    "print(f'there are {len(os.listdir(source_path_car))} images of cars')\n",
    "print(f'there are {len(os.listdir(source_path_motor))} images of motors')"
   ]
  },
  {
   "cell_type": "code",
   "execution_count": null,
   "metadata": {},
   "outputs": [],
   "source": [
    "import shutil\n",
    "\n",
    "root_dir = \"D:/Cars vs Motorbike/cars-vs-motors\"\n",
    "\n",
    "if os.path.exists(root_dir):\n",
    "    shutil.rmtree(root_dir)\n",
    "\n",
    "\n",
    "def create_train_val_dirs(root_path):\n",
    "    os.makedirs(root_path)\n",
    "    os.makedirs(os.path.join(root_path, \"training\"))\n",
    "    os.makedirs(os.path.join(root_path, \"training\", \"cars\"))\n",
    "    os.makedirs(os.path.join(root_path, \"validation\"))\n",
    "    os.makedirs(os.path.join(root_path, \"training\", \"motors\"))\n",
    "    os.makedirs(os.path.join(root_path, \"validation\", \"cars\"))\n",
    "    os.makedirs(os.path.join(root_path, \"validation\", \"motors\"))\n",
    "    pass\n",
    "\n",
    "\n",
    "try:\n",
    "    create_train_val_dirs(root_path=root_dir)\n",
    "except:\n",
    "    print(\n",
    "        \"You should not be seeing this since the upper directory is removed beforehand\"\n",
    "    )"
   ]
  },
  {
   "cell_type": "code",
   "execution_count": 9,
   "metadata": {},
   "outputs": [
    {
     "ename": "NameError",
     "evalue": "name 'root_dir' is not defined",
     "output_type": "error",
     "traceback": [
      "\u001b[1;31m---------------------------------------------------------------------------\u001b[0m",
      "\u001b[1;31mNameError\u001b[0m                                 Traceback (most recent call last)",
      "Cell \u001b[1;32mIn[9], line 1\u001b[0m\n\u001b[1;32m----> 1\u001b[0m \u001b[39mfor\u001b[39;00m rootdir, dirs, files \u001b[39min\u001b[39;00m os\u001b[39m.\u001b[39mwalk(root_dir):\n\u001b[0;32m      2\u001b[0m     \u001b[39mfor\u001b[39;00m subdir \u001b[39min\u001b[39;00m dirs:\n\u001b[0;32m      3\u001b[0m         \u001b[39mprint\u001b[39m(os\u001b[39m.\u001b[39mpath\u001b[39m.\u001b[39mjoin(rootdir, subdir))\n",
      "\u001b[1;31mNameError\u001b[0m: name 'root_dir' is not defined"
     ]
    }
   ],
   "source": [
    "for rootdir, dirs, files in os.walk(root_dir):\n",
    "    for subdir in dirs:\n",
    "        print(os.path.join(rootdir, subdir))"
   ]
  },
  {
   "cell_type": "code",
   "execution_count": 10,
   "metadata": {},
   "outputs": [],
   "source": [
    "from shutil import copyfile\n",
    "\n",
    "\n",
    "def split_data(SOURCE_DIR, TRAINING_DIR, VALIDATION_DIR, SPLIT_SIZE):\n",
    "    filtered_files = []\n",
    "    for filename in os.listdir(SOURCE_DIR):\n",
    "        file_path = os.path.join(SOURCE_DIR, filename)\n",
    "        if os.path.getsize(file_path):\n",
    "            filtered_files.append(filename)\n",
    "        else:\n",
    "            print(f\"{filename} is zero length, so ignoring\")\n",
    "    random_files = random.sample(filtered_files, len(filtered_files))\n",
    "    split = int(SPLIT_SIZE * len(filtered_files))\n",
    "    training_files = random_files[:split]\n",
    "    validation_files = random_files[split:]\n",
    "\n",
    "    for filename in training_files:\n",
    "        copyfile(\n",
    "            os.path.join(SOURCE_DIR, filename), os.path.join(TRAINING_DIR, filename)\n",
    "        )\n",
    "    for filename in validation_files:\n",
    "        copyfile(\n",
    "            os.path.join(SOURCE_DIR, filename), os.path.join(VALIDATION_DIR, filename)\n",
    "        )\n",
    "    pass"
   ]
  },
  {
   "cell_type": "code",
   "execution_count": 11,
   "metadata": {},
   "outputs": [
    {
     "name": "stdout",
     "output_type": "stream",
     "text": [
      "\n",
      "\n",
      "Original car's directory has 2000 images\n",
      "Original motor's directory has 2000 images/n\n",
      "There are 1800 images of cars for training\n",
      "There are 1800 images of motors for training\n",
      "There are 200 images of cars for validation\n",
      "There are 200 images of motors for validation\n"
     ]
    }
   ],
   "source": [
    "CAR_SOURCE_DIR = 'D:\\Cars vs Motorbike\\Car-Bike-Dataset\\Car'\n",
    "MOTOR_SOURCE_DIR = \"D:\\Cars vs Motorbike\\Car-Bike-Dataset\\Bike\"\n",
    "\n",
    "TRAINING_DIR = \"D:/Cars vs Motorbike/cars-vs-motors/training/\"\n",
    "VALIDATION_DIR = \"D:/Cars vs Motorbike/cars-vs-motors/validation/\"\n",
    "\n",
    "TRAINING_CARS_DIR = os.path.join(TRAINING_DIR, \"cars\")\n",
    "VALIDATION_CARS_DIR = os.path.join(VALIDATION_DIR, \"cars\")\n",
    "\n",
    "TRAINING_MOTORS_DIR = os.path.join(TRAINING_DIR, \"motors\")\n",
    "VALIDATION_MOTORS_DIR = os.path.join(VALIDATION_DIR, \"motors\")\n",
    "\n",
    "if len(os.listdir(TRAINING_CARS_DIR)) > 0:\n",
    "    for file in os.scandir(TRAINING_CARS_DIR):\n",
    "        os.remove(file.path)\n",
    "if len(os.listdir(TRAINING_MOTORS_DIR)) > 0:\n",
    "    for file in os.scandir(TRAINING_MOTORS_DIR):\n",
    "        os.remove(file.path)\n",
    "if len(os.listdir(VALIDATION_CARS_DIR)) > 0:\n",
    "    for file in os.scandir(VALIDATION_CARS_DIR):\n",
    "        os.remove(file.path)\n",
    "if len(os.listdir(VALIDATION_MOTORS_DIR)) > 0:\n",
    "    for file in os.scandir(VALIDATION_MOTORS_DIR):\n",
    "        os.remove(file.path)\n",
    "\n",
    "split_size = .9\n",
    "\n",
    "split_data(CAR_SOURCE_DIR, TRAINING_CARS_DIR, VALIDATION_CARS_DIR, split_size)\n",
    "split_data(MOTOR_SOURCE_DIR, TRAINING_MOTORS_DIR, VALIDATION_MOTORS_DIR, split_size)\n",
    "\n",
    "\n",
    "print(f\"\\n\\nOriginal car's directory has {len(os.listdir(CAR_SOURCE_DIR))} images\")\n",
    "print(f\"Original motor's directory has {len(os.listdir(MOTOR_SOURCE_DIR))} images/n\")\n",
    "\n",
    "print(f\"There are {len(os.listdir(TRAINING_CARS_DIR))} images of cars for training\")\n",
    "print(f\"There are {len(os.listdir(TRAINING_MOTORS_DIR))} images of motors for training\")\n",
    "print(f\"There are {len(os.listdir(VALIDATION_CARS_DIR))} images of cars for validation\")\n",
    "print(f\"There are {len(os.listdir(VALIDATION_MOTORS_DIR))} images of motors for validation\")"
   ]
  },
  {
   "cell_type": "code",
   "execution_count": 12,
   "metadata": {},
   "outputs": [],
   "source": [
    "from keras_preprocessing.image import ImageDataGenerator"
   ]
  },
  {
   "cell_type": "code",
   "execution_count": 13,
   "metadata": {},
   "outputs": [],
   "source": [
    "def train_val_generators(TRAINING_DIR, VALIDATION_DIR):\n",
    "    \"\"\"\n",
    "    Creates the training and validation data generators\n",
    "\n",
    "    Args:\n",
    "      TRAINING_DIR (string): directory path containing the training images\n",
    "      VALIDATION_DIR (string): directory path containing the testing/validation images\n",
    "\n",
    "    Returns:\n",
    "      train_generator, validation_generator - tuple containing the generators\n",
    "    \"\"\"\n",
    "    ### START CODE HERE\n",
    "\n",
    "    # Instantiate the ImageDataGenerator class (don't forget to set the rescale argument)\n",
    "    train_datagen = ImageDataGenerator(\n",
    "        rescale=1.0 / 255,\n",
    "        rotation_range=40,\n",
    "        width_shift_range=0.2,\n",
    "        height_shift_range=0.2,\n",
    "        shear_range=0.2,\n",
    "        zoom_range=0.2,\n",
    "        horizontal_flip=True,\n",
    "        fill_mode=\"nearest\",\n",
    "    )\n",
    "\n",
    "    # Pass in the appropriate arguments to the flow_from_directory method\n",
    "    train_generator = train_datagen.flow_from_directory(\n",
    "        directory=TRAINING_DIR,\n",
    "        batch_size=64,\n",
    "        class_mode=\"binary\",\n",
    "        target_size=(150, 150),\n",
    "    )\n",
    "\n",
    "    # Instantiate the ImageDataGenerator class (don't forget to set the rescale argument)\n",
    "    validation_datagen = ImageDataGenerator(\n",
    "        rescale=1.0 / 255,\n",
    "        rotation_range=40,\n",
    "        width_shift_range=0.2,\n",
    "        height_shift_range=0.2,\n",
    "        shear_range=0.2,\n",
    "        zoom_range=0.2,\n",
    "        horizontal_flip=True,\n",
    "        fill_mode=\"nearest\",\n",
    "    )\n",
    "\n",
    "    # Pass in the appropriate arguments to the flow_from_directory method\n",
    "    validation_generator = validation_datagen.flow_from_directory(\n",
    "        directory=VALIDATION_DIR,\n",
    "        batch_size=64,\n",
    "        class_mode=\"binary\",\n",
    "        target_size=(150, 150),\n",
    "    )\n",
    "    ### END CODE HERE\n",
    "    return train_generator, validation_generator"
   ]
  },
  {
   "cell_type": "code",
   "execution_count": 14,
   "metadata": {},
   "outputs": [
    {
     "name": "stdout",
     "output_type": "stream",
     "text": [
      "Found 3600 images belonging to 2 classes.\n",
      "Found 400 images belonging to 2 classes.\n"
     ]
    }
   ],
   "source": [
    "train_generator, validation_generator = train_val_generators(TRAINING_DIR, VALIDATION_DIR)"
   ]
  },
  {
   "cell_type": "code",
   "execution_count": 15,
   "metadata": {},
   "outputs": [],
   "source": [
    "import tensorflow as tf\n",
    "from tensorflow.keras.layers import (\n",
    "    Conv2D,\n",
    "    BatchNormalization,\n",
    "    Dropout,\n",
    "    MaxPooling2D,\n",
    "    Flatten,\n",
    "    Dense,\n",
    ")\n",
    "from keras.models import Sequential\n",
    "\n",
    "\n",
    "def create_model():\n",
    "    model = Sequential(\n",
    "        [\n",
    "            Conv2D(\n",
    "                32,\n",
    "                kernel_size=(3, 3),\n",
    "                padding=\"same\",\n",
    "                activation=\"relu\",\n",
    "                input_shape=(150, 150, 3),\n",
    "            ),\n",
    "            MaxPooling2D(pool_size=(2, 2)),\n",
    "            BatchNormalization(),\n",
    "            Conv2D(64, kernel_size=(3, 3), padding=\"same\", activation=\"relu\"),\n",
    "            MaxPooling2D(pool_size=(2, 2)),\n",
    "            BatchNormalization(),\n",
    "            Conv2D(128, kernel_size=(3, 3), padding=\"same\", activation=\"relu\"),\n",
    "            MaxPooling2D(pool_size=(2, 2)),\n",
    "            BatchNormalization(),\n",
    "            Conv2D(256, kernel_size=(3, 3), padding=\"same\", activation=\"relu\"),\n",
    "            MaxPooling2D(pool_size=(2, 2)),\n",
    "            BatchNormalization(),\n",
    "            Dropout(0.4),\n",
    "            Flatten(),\n",
    "            Dense(512, activation=\"relu\"),\n",
    "            Dense(1028, activation=\"relu\"),\n",
    "            Dense(1, activation=\"sigmoid\"),\n",
    "        ]\n",
    "    )\n",
    "\n",
    "    model.compile(optimizer=\"adam\", loss=\"binary_crossentropy\", metrics=[\"accuracy\"])\n",
    "\n",
    "    return model"
   ]
  },
  {
   "cell_type": "code",
   "execution_count": 16,
   "metadata": {},
   "outputs": [
    {
     "name": "stdout",
     "output_type": "stream",
     "text": [
      "Model: \"sequential\"\n",
      "_________________________________________________________________\n",
      " Layer (type)                Output Shape              Param #   \n",
      "=================================================================\n",
      " conv2d (Conv2D)             (None, 150, 150, 32)      896       \n",
      "                                                                 \n",
      " max_pooling2d (MaxPooling2D  (None, 75, 75, 32)       0         \n",
      " )                                                               \n",
      "                                                                 \n",
      " batch_normalization (BatchN  (None, 75, 75, 32)       128       \n",
      " ormalization)                                                   \n",
      "                                                                 \n",
      " conv2d_1 (Conv2D)           (None, 75, 75, 64)        18496     \n",
      "                                                                 \n",
      " max_pooling2d_1 (MaxPooling  (None, 37, 37, 64)       0         \n",
      " 2D)                                                             \n",
      "                                                                 \n",
      " batch_normalization_1 (Batc  (None, 37, 37, 64)       256       \n",
      " hNormalization)                                                 \n",
      "                                                                 \n",
      " conv2d_2 (Conv2D)           (None, 37, 37, 128)       73856     \n",
      "                                                                 \n",
      " max_pooling2d_2 (MaxPooling  (None, 18, 18, 128)      0         \n",
      " 2D)                                                             \n",
      "                                                                 \n",
      " batch_normalization_2 (Batc  (None, 18, 18, 128)      512       \n",
      " hNormalization)                                                 \n",
      "                                                                 \n",
      " conv2d_3 (Conv2D)           (None, 18, 18, 256)       295168    \n",
      "                                                                 \n",
      " max_pooling2d_3 (MaxPooling  (None, 9, 9, 256)        0         \n",
      " 2D)                                                             \n",
      "                                                                 \n",
      " batch_normalization_3 (Batc  (None, 9, 9, 256)        1024      \n",
      " hNormalization)                                                 \n",
      "                                                                 \n",
      " dropout (Dropout)           (None, 9, 9, 256)         0         \n",
      "                                                                 \n",
      " flatten (Flatten)           (None, 20736)             0         \n",
      "                                                                 \n",
      " dense (Dense)               (None, 512)               10617344  \n",
      "                                                                 \n",
      " dense_1 (Dense)             (None, 1028)              527364    \n",
      "                                                                 \n",
      " dense_2 (Dense)             (None, 1)                 1029      \n",
      "                                                                 \n",
      "=================================================================\n",
      "Total params: 11,536,073\n",
      "Trainable params: 11,535,113\n",
      "Non-trainable params: 960\n",
      "_________________________________________________________________\n"
     ]
    }
   ],
   "source": [
    "model = create_model()\n",
    "model.summary()"
   ]
  },
  {
   "cell_type": "code",
   "execution_count": 18,
   "metadata": {},
   "outputs": [
    {
     "name": "stdout",
     "output_type": "stream",
     "text": [
      "Epoch 1/30\n",
      "57/57 [==============================] - 11s 188ms/step - loss: 0.1519 - accuracy: 0.9408 - val_loss: 0.1348 - val_accuracy: 0.9500\n",
      "Epoch 2/30\n",
      "57/57 [==============================] - 10s 179ms/step - loss: 0.1418 - accuracy: 0.9400 - val_loss: 0.3973 - val_accuracy: 0.8650\n",
      "Epoch 3/30\n",
      "57/57 [==============================] - 10s 183ms/step - loss: 0.1345 - accuracy: 0.9492 - val_loss: 0.2155 - val_accuracy: 0.9175\n",
      "Epoch 4/30\n",
      "57/57 [==============================] - 10s 173ms/step - loss: 0.1417 - accuracy: 0.9394 - val_loss: 0.1695 - val_accuracy: 0.9450\n",
      "Epoch 5/30\n",
      "57/57 [==============================] - 10s 175ms/step - loss: 0.1377 - accuracy: 0.9456 - val_loss: 0.5176 - val_accuracy: 0.8125\n",
      "Epoch 6/30\n",
      "57/57 [==============================] - 10s 173ms/step - loss: 0.1180 - accuracy: 0.9514 - val_loss: 0.6125 - val_accuracy: 0.8625\n",
      "Epoch 7/30\n",
      "57/57 [==============================] - 10s 174ms/step - loss: 0.1512 - accuracy: 0.9408 - val_loss: 0.2263 - val_accuracy: 0.9350\n",
      "Epoch 8/30\n",
      "57/57 [==============================] - 10s 174ms/step - loss: 0.1389 - accuracy: 0.9425 - val_loss: 0.2426 - val_accuracy: 0.9150\n",
      "Epoch 9/30\n",
      "57/57 [==============================] - 10s 174ms/step - loss: 0.1212 - accuracy: 0.9522 - val_loss: 0.2008 - val_accuracy: 0.9300\n",
      "Epoch 10/30\n",
      "57/57 [==============================] - 10s 175ms/step - loss: 0.1151 - accuracy: 0.9558 - val_loss: 0.2402 - val_accuracy: 0.9125\n",
      "Epoch 11/30\n",
      "57/57 [==============================] - 10s 176ms/step - loss: 0.1183 - accuracy: 0.9508 - val_loss: 0.1885 - val_accuracy: 0.9400\n",
      "Epoch 12/30\n",
      "57/57 [==============================] - 10s 178ms/step - loss: 0.1085 - accuracy: 0.9583 - val_loss: 0.2560 - val_accuracy: 0.8975\n",
      "Epoch 13/30\n",
      "57/57 [==============================] - 10s 174ms/step - loss: 0.1379 - accuracy: 0.9431 - val_loss: 0.3677 - val_accuracy: 0.8475\n",
      "Epoch 14/30\n",
      "57/57 [==============================] - 10s 173ms/step - loss: 0.1051 - accuracy: 0.9572 - val_loss: 0.2244 - val_accuracy: 0.9300\n",
      "Epoch 15/30\n",
      "57/57 [==============================] - 10s 176ms/step - loss: 0.1192 - accuracy: 0.9558 - val_loss: 0.2504 - val_accuracy: 0.9025\n",
      "Epoch 16/30\n",
      "57/57 [==============================] - 11s 194ms/step - loss: 0.1133 - accuracy: 0.9597 - val_loss: 0.2214 - val_accuracy: 0.9425\n",
      "Epoch 17/30\n",
      "57/57 [==============================] - 10s 184ms/step - loss: 0.1080 - accuracy: 0.9589 - val_loss: 0.1313 - val_accuracy: 0.9550\n",
      "Epoch 18/30\n",
      "57/57 [==============================] - 10s 181ms/step - loss: 0.1028 - accuracy: 0.9603 - val_loss: 0.2021 - val_accuracy: 0.9150\n",
      "Epoch 19/30\n",
      "57/57 [==============================] - 10s 181ms/step - loss: 0.0921 - accuracy: 0.9650 - val_loss: 0.1448 - val_accuracy: 0.9475\n",
      "Epoch 20/30\n",
      "57/57 [==============================] - 10s 180ms/step - loss: 0.0995 - accuracy: 0.9606 - val_loss: 0.2430 - val_accuracy: 0.9225\n",
      "Epoch 21/30\n",
      "57/57 [==============================] - 10s 173ms/step - loss: 0.1057 - accuracy: 0.9597 - val_loss: 0.1814 - val_accuracy: 0.9300\n",
      "Epoch 22/30\n",
      "57/57 [==============================] - 10s 172ms/step - loss: 0.0909 - accuracy: 0.9619 - val_loss: 0.3391 - val_accuracy: 0.8925\n",
      "Epoch 23/30\n",
      "57/57 [==============================] - 10s 174ms/step - loss: 0.0853 - accuracy: 0.9686 - val_loss: 0.1004 - val_accuracy: 0.9700\n",
      "Epoch 24/30\n",
      "57/57 [==============================] - 10s 174ms/step - loss: 0.0941 - accuracy: 0.9650 - val_loss: 0.1753 - val_accuracy: 0.9450\n",
      "Epoch 25/30\n",
      "57/57 [==============================] - 10s 176ms/step - loss: 0.0834 - accuracy: 0.9714 - val_loss: 0.3846 - val_accuracy: 0.8975\n",
      "Epoch 26/30\n",
      "57/57 [==============================] - 10s 178ms/step - loss: 0.0827 - accuracy: 0.9683 - val_loss: 0.1051 - val_accuracy: 0.9550\n",
      "Epoch 27/30\n",
      "57/57 [==============================] - 10s 178ms/step - loss: 0.0928 - accuracy: 0.9675 - val_loss: 0.1560 - val_accuracy: 0.9375\n",
      "Epoch 28/30\n",
      "57/57 [==============================] - 10s 178ms/step - loss: 0.0853 - accuracy: 0.9653 - val_loss: 0.5198 - val_accuracy: 0.8575\n",
      "Epoch 29/30\n",
      "57/57 [==============================] - 10s 179ms/step - loss: 0.0736 - accuracy: 0.9731 - val_loss: 0.1389 - val_accuracy: 0.9575\n",
      "Epoch 30/30\n",
      "57/57 [==============================] - 10s 176ms/step - loss: 0.0799 - accuracy: 0.9667 - val_loss: 0.1620 - val_accuracy: 0.9400\n"
     ]
    }
   ],
   "source": [
    "history = model.fit(train_generator,\n",
    "                    epochs=30,\n",
    "                    verbose=1,\n",
    "                    validation_data=validation_generator)"
   ]
  },
  {
   "cell_type": "code",
   "execution_count": 20,
   "metadata": {},
   "outputs": [],
   "source": [
    "import matplotlib.pyplot as plt"
   ]
  },
  {
   "cell_type": "code",
   "execution_count": 21,
   "metadata": {},
   "outputs": [
    {
     "data": {
      "image/png": "[encoded data removed]",
      "text/plain": [
       "<Figure size 640x480 with 1 Axes>"
      ]
     },
     "metadata": {},
     "output_type": "display_data"
    },
    {
     "name": "stdout",
     "output_type": "stream",
     "text": [
      "\n"
     ]
    },
    {
     "data": {
      "image/png": "[encoded data removed]",
      "text/plain": [
       "<Figure size 640x480 with 1 Axes>"
      ]
     },
     "metadata": {},
     "output_type": "display_data"
    }
   ],
   "source": [
    "acc = history.history['accuracy']\n",
    "val_acc = history.history['val_accuracy']\n",
    "loss = history.history['loss']\n",
    "val_loss = history.history['val_loss']\n",
    "\n",
    "epochs = range(len(acc))\n",
    "\n",
    "plt.plot(epochs, acc, 'r', \"Training Accuracy\")\n",
    "plt.plot(epochs, val_acc, 'b', \"Validation Accuracy\")\n",
    "plt.title('Training and validation accuracy')\n",
    "plt.show()\n",
    "print(\"\")\n",
    "\n",
    "plt.plot(epochs, loss, 'r', \"Training Loss\")\n",
    "plt.plot(epochs, val_loss, 'b', \"Validation Loss\")\n",
    "plt.show()"
   ]
  },
  {
   "cell_type": "code",
   "execution_count": 26,
   "metadata": {},
   "outputs": [
    {
     "name": "stdout",
     "output_type": "stream",
     "text": [
      "7/7 [==============================] - 1s 187ms/step - loss: 0.1635 - accuracy: 0.9400\n"
     ]
    },
    {
     "data": {
      "text/plain": [
       "[0.1635272204875946, 0.9399999976158142]"
      ]
     },
     "execution_count": 26,
     "metadata": {},
     "output_type": "execute_result"
    }
   ],
   "source": [
    "model.evaluate(validation_generator)"
   ]
  },
  {
   "cell_type": "code",
   "execution_count": null,
   "metadata": {},
   "outputs": [],
   "source": []
  }
 ],
 "metadata": {
  "kernelspec": {
   "display_name": "cars-vs-motorbikes",
   "language": "python",
   "name": "python3"
  },
  "language_info": {
   "codemirror_mode": {
    "name": "ipython",
    "version": 3
   },
   "file_extension": ".py",
   "mimetype": "text/x-python",
   "name": "python",
   "nbconvert_exporter": "python",
   "pygments_lexer": "ipython3",
   "version": "3.10.10"
  },
  "orig_nbformat": 4
 },
 "nbformat": 4,
 "nbformat_minor": 2
}
